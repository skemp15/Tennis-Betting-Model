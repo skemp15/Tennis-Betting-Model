{
 "cells": [
  {
   "cell_type": "markdown",
   "metadata": {},
   "source": [
    "# Model Evaluation"
   ]
  },
  {
   "cell_type": "markdown",
   "metadata": {},
   "source": [
    "While have seen that our model has fairly strong performance metrics, what we really care about is how profitable it is. Theredore we can look at the predicted probabilities for our test set and see how they compare to Bet365 odds. "
   ]
  },
  {
   "cell_type": "markdown",
   "metadata": {},
   "source": [
    "### Import Libraries"
   ]
  },
  {
   "cell_type": "code",
   "execution_count": null,
   "metadata": {},
   "outputs": [],
   "source": [
    "import pandas as pd\n",
    "import pickle\n",
    "import warnings\n",
    "\n",
    "# Ignore PerformanceWarning and UserWarning\n",
    "warnings.filterwarnings(\"ignore\", category=UserWarning)\n",
    "warnings.filterwarnings(\"ignore\", category=pd.errors.PerformanceWarning)"
   ]
  },
  {
   "cell_type": "markdown",
   "metadata": {},
   "source": [
    "### Load Model"
   ]
  },
  {
   "cell_type": "code",
   "execution_count": null,
   "metadata": {},
   "outputs": [],
   "source": [
    "# Load model\n",
    "with open('rf_model.pkl', 'rb') as file:\n",
    "    rf = pickle.load(file)"
   ]
  },
  {
   "cell_type": "markdown",
   "metadata": {},
   "source": [
    "### Load Datasets"
   ]
  },
  {
   "cell_type": "code",
   "execution_count": null,
   "metadata": {},
   "outputs": [],
   "source": [
    "# Load datasets\n",
    "X_test = pd.read_csv('train_test_datasets\\X_test.csv')\n",
    "odds_win_test = pd.read_csv('train_test_datasets\\odds_win_test.csv', index=False)"
   ]
  },
  {
   "cell_type": "markdown",
   "metadata": {},
   "source": [
    "### Function to add model predictions and probabilities to odds dataset\n",
    "\n",
    "First we create a function to add predicted values and probabilities to our odds_win_test dataframe:"
   ]
  },
  {
   "cell_type": "code",
   "execution_count": 305,
   "metadata": {},
   "outputs": [],
   "source": [
    "def add_preds_probs(odds_win_df, X_test, model):\n",
    "    \"\"\"\n",
    "    Adds model predictions and converted probabilities to the odds DataFrame.\n",
    "\n",
    "    This function:\n",
    "    - Uses the provided model to predict win probabilities and outcomes on the test set.\n",
    "    - Converts the predicted probabilities into an odds-style format (1/probability of outcome).\n",
    "    - Appends both the predicted class and model-derived odds to the given `odds_win_df`.\n",
    "\n",
    "    Parameters:\n",
    "        odds_win_df (pandas.DataFrame): A DataFrame containing odds and outcome data for test matches.\n",
    "        X_test (pandas.DataFrame): The feature set used for testing.\n",
    "        model (fitted model): A trained classification model with `predict` and `predict_proba` methods.\n",
    "\n",
    "    Returns:\n",
    "        pandas.DataFrame: The input DataFrame updated with two new columns:\n",
    "                          - 'model_odds': Model-derived odds based on predicted win probabilities.\n",
    "                          - 'pred_win': Predicted binary outcome (win/loss).\n",
    "    \"\"\"\n",
    "    # Make predictions on the test data\n",
    "    y_pred = model.predict(X_test)\n",
    "\n",
    "    # Get probabilities\n",
    "    y_prob = model.predict_proba(X_test)\n",
    "\n",
    "    # Convert probabilities to odds format\n",
    "    y_prob = 1 / y_prob\n",
    "\n",
    "    # Get only probability of a win\n",
    "    y_prob = [prob[1] for prob in y_prob]\n",
    "\n",
    "    # Add to odds_win_df\n",
    "    odds_win_df['model_odds'] = y_prob\n",
    "    odds_win_df['pred_win'] = y_pred\n",
    "\n",
    "    return odds_win_df\n"
   ]
  },
  {
   "cell_type": "code",
   "execution_count": 306,
   "metadata": {},
   "outputs": [
    {
     "data": {
      "text/html": [
       "<div>\n",
       "<style scoped>\n",
       "    .dataframe tbody tr th:only-of-type {\n",
       "        vertical-align: middle;\n",
       "    }\n",
       "\n",
       "    .dataframe tbody tr th {\n",
       "        vertical-align: top;\n",
       "    }\n",
       "\n",
       "    .dataframe thead th {\n",
       "        text-align: right;\n",
       "    }\n",
       "</style>\n",
       "<table border=\"1\" class=\"dataframe\">\n",
       "  <thead>\n",
       "    <tr style=\"text-align: right;\">\n",
       "      <th></th>\n",
       "      <th>odds</th>\n",
       "      <th>won</th>\n",
       "      <th>model_odds</th>\n",
       "      <th>pred_win</th>\n",
       "    </tr>\n",
       "  </thead>\n",
       "  <tbody>\n",
       "    <tr>\n",
       "      <th>25</th>\n",
       "      <td>3.50</td>\n",
       "      <td>1</td>\n",
       "      <td>3.335092</td>\n",
       "      <td>0</td>\n",
       "    </tr>\n",
       "    <tr>\n",
       "      <th>27</th>\n",
       "      <td>2.62</td>\n",
       "      <td>1</td>\n",
       "      <td>2.473532</td>\n",
       "      <td>0</td>\n",
       "    </tr>\n",
       "    <tr>\n",
       "      <th>33</th>\n",
       "      <td>5.50</td>\n",
       "      <td>1</td>\n",
       "      <td>3.220135</td>\n",
       "      <td>0</td>\n",
       "    </tr>\n",
       "    <tr>\n",
       "      <th>147</th>\n",
       "      <td>2.50</td>\n",
       "      <td>0</td>\n",
       "      <td>2.950401</td>\n",
       "      <td>0</td>\n",
       "    </tr>\n",
       "    <tr>\n",
       "      <th>259</th>\n",
       "      <td>1.11</td>\n",
       "      <td>1</td>\n",
       "      <td>1.631039</td>\n",
       "      <td>1</td>\n",
       "    </tr>\n",
       "  </tbody>\n",
       "</table>\n",
       "</div>"
      ],
      "text/plain": [
       "     odds  won  model_odds  pred_win\n",
       "25   3.50    1    3.335092         0\n",
       "27   2.62    1    2.473532         0\n",
       "33   5.50    1    3.220135         0\n",
       "147  2.50    0    2.950401         0\n",
       "259  1.11    1    1.631039         1"
      ]
     },
     "execution_count": 306,
     "metadata": {},
     "output_type": "execute_result"
    }
   ],
   "source": [
    "# Run the function\n",
    "odds_win_df = add_preds_probs(odds_win_test, X_test, rf)\n",
    "odds_win_df.head(5)"
   ]
  },
  {
   "cell_type": "markdown",
   "metadata": {},
   "source": [
    "We can now define functions for calculating profit/loss in different scenarios."
   ]
  },
  {
   "cell_type": "markdown",
   "metadata": {},
   "source": [
    "### Function to calculate profit from betting on bookmaker favourite\n",
    "\n",
    "As a benchmark, we can see how much profit or loss would have been achieved should we have simply bet on the favourite. Here, we take the favourite as odds lower than 1.90 rather than 2.00 to account for Bet365's profit margin, since they offer 1.90 (i.e. 52.6% chance) on both sides of a market with equal chances of happening. \n",
    "\n",
    "This function will therefore show the hypothetical profit or loss, and the total money staked, should we have bet a £1 stake on all players with bookmaker odds of lower than 1.90:"
   ]
  },
  {
   "cell_type": "code",
   "execution_count": 307,
   "metadata": {},
   "outputs": [],
   "source": [
    "def returns_from_fav(odds_win_df):\n",
    "    \"\"\"\n",
    "    Calculates and prints the total return from betting £1 on each match where the \n",
    "    bookmaker's odds are below 1.90 (i.e. the favourite).\n",
    "\n",
    "    This function:\n",
    "    - Filters the matches where the odds suggest a strong favourite (odds < 1.90).\n",
    "    - Assumes a flat £1 stake on each qualifying match.\n",
    "    - Calculates profit or loss per match based on the actual outcome.\n",
    "    - Outputs the total return and total amount staked.\n",
    "\n",
    "    Parameters:\n",
    "        odds_win_df (pandas.DataFrame): A DataFrame containing at least the columns 'odds' and 'won'.\n",
    "\n",
    "    Returns:\n",
    "        None\n",
    "    \"\"\"\n",
    "    # Filter the DataFrame for rows where the odds are less than 1.90\n",
    "    filtered_df = odds_win_df[odds_win_df['odds'] < 1.90].copy()\n",
    "\n",
    "    # Set the stake as £1\n",
    "    filtered_df.loc[:, 'stake'] = 1\n",
    "\n",
    "    # Calculate the returns for each bet\n",
    "    returns = filtered_df.apply(\n",
    "        lambda row: (row['odds'] * row['stake']) - row['stake'] if row['won'] else -row['stake'],\n",
    "        axis=1\n",
    "    )\n",
    "\n",
    "    # Calculate the total return and total staked\n",
    "    total_return = returns.sum()\n",
    "    total_staked = filtered_df['stake'].sum()\n",
    "\n",
    "    # Print the total return and total staked\n",
    "    print(f\"Total return from betting on favourite: £{total_return:.2f}\")\n",
    "    print(f\"Total staked: £{total_staked:.2f}\")\n"
   ]
  },
  {
   "cell_type": "code",
   "execution_count": 308,
   "metadata": {},
   "outputs": [
    {
     "name": "stdout",
     "output_type": "stream",
     "text": [
      "Total return from betting on favourite: £-345.29\n",
      "Total staked: £6356.00\n"
     ]
    }
   ],
   "source": [
    "returns_from_fav(odds_win_df)"
   ]
  },
  {
   "cell_type": "markdown",
   "metadata": {},
   "source": [
    "### Function to calculate profit/loss from betting on model win predictions\n",
    "\n",
    "We can now build a function to calculate the hypothetical profit or loss, and the money staked, should we have bet a £1 stake on every match which the model predicted the player to win:"
   ]
  },
  {
   "cell_type": "code",
   "execution_count": 311,
   "metadata": {},
   "outputs": [],
   "source": [
    "def returns_from_model_pred_win(odds_win_df):\n",
    "    \"\"\"\n",
    "    Calculates the return from betting £1 on each match where the model predicted a win.\n",
    "\n",
    "    This function:\n",
    "    - Filters the dataset to include only rows where the model predicted a win ('pred_win' == 1).\n",
    "    - Assumes a flat £1 stake on each bet.\n",
    "    - Computes net profit for each prediction based on actual match outcomes and bookmaker odds.\n",
    "    - Prints the total net profit and total amount staked.\n",
    "    - Returns both values for further analysis.\n",
    "\n",
    "    Parameters:\n",
    "        odds_win_df (pandas.DataFrame): A DataFrame containing at least the columns:\n",
    "                                        'pred_win', 'won', and 'odds'.\n",
    "\n",
    "    Returns:\n",
    "        tuple:\n",
    "            total_net_profit (float): The overall profit/loss from the strategy.\n",
    "            total_staked (float): The total amount staked across all bets.\n",
    "    \"\"\"\n",
    "    # Filter the DataFrame for rows where the model predicted a win\n",
    "    filtered_df = odds_win_df[odds_win_df['pred_win'] == 1].copy()\n",
    "\n",
    "    # Set the stake as £1\n",
    "    filtered_df.loc[:, 'stake'] = 1\n",
    "\n",
    "    # Calculate the net profit (or loss) for each bet\n",
    "    filtered_df['net_profit'] = filtered_df.apply(\n",
    "        lambda row: (row['odds'] * row['stake']) - row['stake'] if row['won'] else -row['stake'],\n",
    "        axis=1\n",
    "    )\n",
    "\n",
    "    # Calculate the total net profit and total staked\n",
    "    total_net_profit = filtered_df['net_profit'].sum()\n",
    "    total_staked = filtered_df['stake'].sum()\n",
    "\n",
    "    # Print the total net profit and total staked\n",
    "    print(f\"Total net profit from betting on player model predicted to win: £{total_net_profit:.2f}\")\n",
    "    print(f\"Total staked: £{total_staked:.2f}\")\n"
   ]
  },
  {
   "cell_type": "code",
   "execution_count": 312,
   "metadata": {},
   "outputs": [
    {
     "name": "stdout",
     "output_type": "stream",
     "text": [
      "Total net profit from betting on player model predicted to win: £133.59\n",
      "Total staked: £6722.00\n"
     ]
    }
   ],
   "source": [
    "returns_from_model_pred_win(odds_win_df)"
   ]
  },
  {
   "cell_type": "markdown",
   "metadata": {},
   "source": [
    "### Function to calculate profit/loss from betting on model odds lower than bookmakers\n",
    "\n",
    "We can now build a function to calculate the hypothetical profit or loss, and the money staked, should we have bet a £1 stake on every match which the model had lower odds than the bookmaker, i.e. where the model is predicting the player to win with more certainty than the bookmaker:"
   ]
  },
  {
   "cell_type": "code",
   "execution_count": 313,
   "metadata": {},
   "outputs": [],
   "source": [
    "def returns_from_lower_odds(odds_win_df):\n",
    "    \"\"\"\n",
    "    Calculates the return from betting £1 on matches where the model's odds imply a \n",
    "    higher chance of winning than the bookmaker's odds.\n",
    "\n",
    "    This strategy assumes a bet is placed when the model's implied probability \n",
    "    (converted to odds) suggests better value than the bookmaker.\n",
    "\n",
    "    The function:\n",
    "    - Filters for cases where model odds are lower than bookmaker odds.\n",
    "    - Applies a flat £1 stake per bet.\n",
    "    - Computes the return or loss for each bet based on actual outcomes.\n",
    "    - Prints the total return and amount staked.\n",
    "\n",
    "    Parameters:\n",
    "        odds_win_df (pandas.DataFrame): DataFrame containing at least the following columns:\n",
    "                                        'model_odds', 'odds', and 'won'.\n",
    "\n",
    "    Returns:\n",
    "        None\n",
    "    \"\"\"\n",
    "    # Filter for value bets based on lower model odds\n",
    "    filtered_df = odds_win_df[odds_win_df['model_odds'] < odds_win_df['odds']].copy()\n",
    "\n",
    "    # Set a flat stake of £1 per bet\n",
    "    filtered_df.loc[:, 'stake'] = 1\n",
    "\n",
    "    # Calculate returns for each bet\n",
    "    returns = filtered_df.apply(\n",
    "        lambda row: (row['odds'] * row['stake']) - row['stake'] if row['won'] else -row['stake'],\n",
    "        axis=1\n",
    "    )\n",
    "\n",
    "    # Aggregate total return and total amount staked\n",
    "    total_return = returns.sum()\n",
    "    total_staked = filtered_df['stake'].sum()\n",
    "\n",
    "    # Print summary\n",
    "    print(f\"Total returns from betting on players where model odds are lower than bookmakers: £{total_return:.2f}\")\n",
    "    print(f\"Total staked: £{total_staked:.2f}\")\n"
   ]
  },
  {
   "cell_type": "code",
   "execution_count": 314,
   "metadata": {},
   "outputs": [
    {
     "name": "stdout",
     "output_type": "stream",
     "text": [
      "Total returns from betting on players where model odds are lower than bookmakers: £26.58\n",
      "Total staked: £5317.00\n"
     ]
    }
   ],
   "source": [
    "returns_from_lower_odds(odds_win_df)"
   ]
  },
  {
   "cell_type": "markdown",
   "metadata": {},
   "source": [
    "### Function to calculate profit/loss from betting on model win predictions with odds lower than bookmakers\n",
    "\n",
    "We can now build a function to calculate the hypothetical profit or loss, and the money staked, should we have bet a £1 stake on every match which the model predicted the player to win and had lower odds than the bookmaker, i.e. where the model is predicting the player to win, and to win with more certainty than the bookmaker:"
   ]
  },
  {
   "cell_type": "code",
   "execution_count": 315,
   "metadata": {},
   "outputs": [],
   "source": [
    "def returns_lower_odds_and_pred_win(odds_win_df):\n",
    "    \"\"\"\n",
    "    Calculates the return from betting £1 only on matches where:\n",
    "    - The model predicted a win (`pred_win` == 1), and\n",
    "    - The model's odds implied a higher probability (i.e. were lower) than the bookmaker's odds.\n",
    "\n",
    "    This strategy combines confidence (prediction of a win) with value (model odds offering \n",
    "    better value than the bookmaker), simulating a more selective betting approach.\n",
    "\n",
    "    The function:\n",
    "    - Filters the test data accordingly.\n",
    "    - Applies a flat £1 stake per qualifying match.\n",
    "    - Calculates the return for each bet based on the match outcome.\n",
    "    - Prints the total return and total amount staked.\n",
    "\n",
    "    Parameters:\n",
    "        odds_win_df (pandas.DataFrame): DataFrame including 'pred_win', 'model_odds',\n",
    "                                        'odds', and 'won' columns.\n",
    "\n",
    "    Returns:\n",
    "        None\n",
    "    \"\"\"\n",
    "    # Filter for predicted wins where model odds < bookmaker odds\n",
    "    filtered_df = odds_win_df[\n",
    "        (odds_win_df['pred_win'] == 1) &\n",
    "        (odds_win_df['model_odds'] < odds_win_df['odds'])\n",
    "    ].copy()\n",
    "\n",
    "    # Flat £1 stake per qualifying match\n",
    "    filtered_df.loc[:, 'stake'] = 1\n",
    "\n",
    "    # Calculate returns\n",
    "    returns = filtered_df.apply(\n",
    "        lambda row: (row['odds'] * row['stake']) - row['stake'] if row['won'] else -row['stake'],\n",
    "        axis=1\n",
    "    )\n",
    "\n",
    "    # Total return and total staked\n",
    "    total_return = returns.sum()\n",
    "    total_staked = filtered_df['stake'].sum()\n",
    "\n",
    "    # Print summary\n",
    "    print(f\"Total returns from betting on players where model odds are lower than B365 and model predicted to win: £{total_return:.2f}\")\n",
    "    print(f\"Total staked: £{total_staked:.2f}\")\n"
   ]
  },
  {
   "cell_type": "code",
   "execution_count": 316,
   "metadata": {},
   "outputs": [
    {
     "name": "stdout",
     "output_type": "stream",
     "text": [
      "Total returns from betting on players where model odds are lower than B365 and model predicted to win: £316.53\n",
      "Total staked: £2951.00\n"
     ]
    }
   ],
   "source": [
    "returns_lower_odds_and_pred_win(odds_win_df)"
   ]
  },
  {
   "cell_type": "markdown",
   "metadata": {},
   "source": [
    "### Function to calculate profit/loss from betting on model lose predictions with odds lower than bookmakers\n",
    "\n",
    "We can now build a function to calculate the hypothetical profit or loss, and the money staked, should we have bet a £1 stake on every match which the model predicted the player to lose and had lower odds than the bookmaker, i.e. where the model is predicting the player to lose, but still believes they have more chance of winning than the bookmaker does:"
   ]
  },
  {
   "cell_type": "code",
   "execution_count": 317,
   "metadata": {},
   "outputs": [],
   "source": [
    "def returns_lower_odds_and_pred_lose(odds_win_df):\n",
    "    \"\"\"\n",
    "    Calculates the return from betting £1 on matches where:\n",
    "    - The model predicted the player would lose (`pred_win` == 0), and\n",
    "    - The model's odds were lower than the bookmaker's odds, implying better value.\n",
    "\n",
    "    This strategy explores cases where the model disagrees with the implied probability of the bookmaker,\n",
    "    suggesting possible underestimation of the player's chances.\n",
    "\n",
    "    The function:\n",
    "    - Filters the dataset accordingly.\n",
    "    - Applies a flat £1 stake to each selected match.\n",
    "    - Calculates the return or loss for each based on actual outcomes.\n",
    "    - Prints the total return and total staked.\n",
    "\n",
    "    Parameters:\n",
    "        odds_win_df (pandas.DataFrame): A DataFrame containing 'pred_win', 'model_odds',\n",
    "                                        'odds', and 'won' columns.\n",
    "\n",
    "    Returns:\n",
    "        None\n",
    "    \"\"\"\n",
    "    # Filter for predicted losses where model odds < bookmaker odds\n",
    "    filtered_df = odds_win_df[\n",
    "        (odds_win_df['pred_win'] == 0) &\n",
    "        (odds_win_df['model_odds'] < odds_win_df['odds'])\n",
    "    ].copy()\n",
    "\n",
    "    # Flat £1 stake per selected bet\n",
    "    filtered_df.loc[:, 'stake'] = 1\n",
    "\n",
    "    # Calculate returns for each bet\n",
    "    returns = filtered_df.apply(\n",
    "        lambda row: (row['odds'] * row['stake']) - row['stake'] if row['won'] else -row['stake'],\n",
    "        axis=1\n",
    "    )\n",
    "\n",
    "    # Total return and total amount staked\n",
    "    total_return = returns.sum()\n",
    "    total_staked = filtered_df['stake'].sum()\n",
    "\n",
    "    # Print summary\n",
    "    print(f\"Total returns from betting on players where model odds are lower than B365 and model predicted to lose: £{total_return:.2f}\")\n",
    "    print(f\"Total staked: £{total_staked:.2f}\")\n"
   ]
  },
  {
   "cell_type": "code",
   "execution_count": 318,
   "metadata": {},
   "outputs": [
    {
     "name": "stdout",
     "output_type": "stream",
     "text": [
      "Total returns from betting on players where model odds are lower than B365 and model predicted to lose: £-289.95\n",
      "Total staked: £2366.00\n"
     ]
    }
   ],
   "source": [
    "returns_lower_odds_and_pred_lose(odds_win_df)"
   ]
  },
  {
   "cell_type": "markdown",
   "metadata": {},
   "source": [
    "## Evaluating on 2023-2025 Results"
   ]
  },
  {
   "cell_type": "markdown",
   "metadata": {},
   "source": [
    "We can now see how profitable the model would have been if we had built it in 2022 and had run it on all games from 2023 to March 2025. Since this data was completely removed from the model building process, and occurred after all the data in the model training and testing sets, we can assume that this will provide an accurate representation on how well the model will perform on future data.\n",
    "\n",
    "First we can load the previously saved evaluation dataset as well as the training dataset:"
   ]
  },
  {
   "cell_type": "code",
   "execution_count": null,
   "metadata": {},
   "outputs": [],
   "source": [
    "# Load datasets\n",
    "player_match_df_23_25 = pd.read_csv('datasets\\player_match_df_23_25.csv')\n",
    "X_train = pd.read_csv('train_test_datasets\\X_train.csv')"
   ]
  },
  {
   "cell_type": "markdown",
   "metadata": {},
   "source": [
    "### Function to prepare evaluation dataset for analysis\n",
    "\n",
    "We will now build a function to filter this evaluation dataset to only include the columns that were used in the model training, and then generate predicitions and probabilities on the evaluation dataset using the final selected model:"
   ]
  },
  {
   "cell_type": "code",
   "execution_count": 325,
   "metadata": {},
   "outputs": [],
   "source": [
    "def prepare_odds_predictions(df, model, X_train):\n",
    "    \"\"\"\n",
    "    Prepares a test set for prediction and adds model-based predictions and odds to the original DataFrame.\n",
    "\n",
    "    This function:\n",
    "    - Extracts the feature columns used during training from the provided X_train.\n",
    "    - Selects these columns from the input DataFrame, along with 'odds', 'won', and 'year'.\n",
    "    - Uses the trained model to predict outcomes and model-implied odds.\n",
    "    - Appends predictions to the original DataFrame using `add_preds_probs`.\n",
    "\n",
    "    Parameters:\n",
    "        df (pandas.DataFrame): The full DataFrame to generate predictions on (e.g. test matches).\n",
    "        model (fitted model): A trained classification model with `predict` and `predict_proba` methods.\n",
    "        X_train (pandas.DataFrame): The training DataFrame, used to extract the list of feature columns.\n",
    "\n",
    "    Returns:\n",
    "        pandas.DataFrame: The original input DataFrame with added 'model_odds' and 'pred_win' columns.\n",
    "    \"\"\"\n",
    "    # Get feature column names from X_train\n",
    "    feature_columns = X_train.columns.tolist()\n",
    "\n",
    "    # Subset input DataFrame to include only features and reference columns, then make a copy\n",
    "    df_subset = df[feature_columns + ['odds', 'won', 'year']].copy()\n",
    "\n",
    "    # Create feature matrix for prediction\n",
    "    X_test = df_subset.drop(columns=['odds', 'won', 'year'])\n",
    "\n",
    "    # Add model predictions and model-derived odds\n",
    "    df_with_preds = add_preds_probs(df_subset, X_test, model)\n",
    "\n",
    "    return df_with_preds\n"
   ]
  },
  {
   "cell_type": "code",
   "execution_count": null,
   "metadata": {},
   "outputs": [],
   "source": [
    "# Run the function\n",
    "odds_win_df_23_25 = prepare_odds_predictions(player_match_df_23_25, rf, X_train)"
   ]
  },
  {
   "cell_type": "markdown",
   "metadata": {},
   "source": [
    "### Run profit/loss functions on evaluation dataset\n",
    "\n",
    "We can now run the previously defined profit/loss functions to show how profitable the model would have been on our evaluation dataset for the different scenarios:"
   ]
  },
  {
   "cell_type": "code",
   "execution_count": null,
   "metadata": {},
   "outputs": [
    {
     "name": "stdout",
     "output_type": "stream",
     "text": [
      "Total return from betting on favourite: £-272.50\n",
      "Total staked: £5960.00\n"
     ]
    }
   ],
   "source": [
    "returns_from_fav(odds_win_df_23_25)"
   ]
  },
  {
   "cell_type": "code",
   "execution_count": null,
   "metadata": {},
   "outputs": [
    {
     "name": "stdout",
     "output_type": "stream",
     "text": [
      "Total net profit from betting on player model predicted to win: £-78.80\n",
      "Total staked: £6183.00\n"
     ]
    }
   ],
   "source": [
    "returns_from_model_pred_win(odds_win_df_23_25)"
   ]
  },
  {
   "cell_type": "code",
   "execution_count": null,
   "metadata": {},
   "outputs": [
    {
     "name": "stdout",
     "output_type": "stream",
     "text": [
      "Total returns from betting on players where model odds are lower than bookmakers: £-115.68\n",
      "Total staked: £4764.00\n"
     ]
    }
   ],
   "source": [
    "returns_from_lower_odds(odds_win_df_23_25)"
   ]
  },
  {
   "cell_type": "code",
   "execution_count": null,
   "metadata": {},
   "outputs": [
    {
     "name": "stdout",
     "output_type": "stream",
     "text": [
      "Total returns from betting on players where model odds are lower than B365 and model predicted to win: £80.12\n",
      "Total staked: £2845.00\n"
     ]
    }
   ],
   "source": [
    "returns_lower_odds_and_pred_win(odds_win_df_23_25)"
   ]
  },
  {
   "cell_type": "code",
   "execution_count": null,
   "metadata": {},
   "outputs": [
    {
     "name": "stdout",
     "output_type": "stream",
     "text": [
      "Total returns from betting on players where model odds are lower than B365 and model predicted to lose: £-195.80\n",
      "Total staked: £1919.00\n"
     ]
    }
   ],
   "source": [
    "returns_lower_odds_and_pred_lose(odds_win_df_23_25)"
   ]
  },
  {
   "cell_type": "markdown",
   "metadata": {},
   "source": [
    "## Summary"
   ]
  },
  {
   "cell_type": "markdown",
   "metadata": {},
   "source": [
    "We can see that our model would have been marginally (2.81%) profitable had we bet on every game where the model predicted the player to win and the model’s odds were lower than the bookmaker's. While this is encouraging and suggests that the model may be identifying genuine value, it's important to interpret these results with caution.\n",
    "\n",
    "Sports betting outcomes are inherently noisy and prone to short-term fluctuations. A 2.81% edge, while statistically promising, can easily be wiped out by variance, particularly over smaller sample sizes or streaky outcomes. Additionally, betting markets evolve — the model's performance may degrade over time as bookmakers adjust, market efficiency improves, or player dynamics shift.\n",
    "\n",
    "It's also worth noting that a model showing marginal profitability under simulated conditions doesn’t guarantee consistent success in live betting environments. Factors like odds movement (line changes), delays in placing bets, limited market liquidity, and bet restrictions can all affect real-world returns.\n",
    "\n",
    "Nonetheless, this initial performance provides a strong foundation. With further refinement — such as improved feature engineering, dynamic model calibration, or integration of live odds tracking — the model could potentially deliver more robust and sustainable profits over time."
   ]
  }
 ],
 "metadata": {
  "kernelspec": {
   "display_name": "Python 3",
   "language": "python",
   "name": "python3"
  },
  "language_info": {
   "codemirror_mode": {
    "name": "ipython",
    "version": 3
   },
   "file_extension": ".py",
   "mimetype": "text/x-python",
   "name": "python",
   "nbconvert_exporter": "python",
   "pygments_lexer": "ipython3",
   "version": "3.11.3"
  },
  "orig_nbformat": 4
 },
 "nbformat": 4,
 "nbformat_minor": 2
}
