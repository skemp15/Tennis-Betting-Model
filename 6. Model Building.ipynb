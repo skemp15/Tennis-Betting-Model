{
 "cells": [
  {
   "cell_type": "markdown",
   "metadata": {},
   "source": [
    "# Model Building"
   ]
  },
  {
   "cell_type": "markdown",
   "metadata": {},
   "source": [
    "### Import Libraries"
   ]
  },
  {
   "cell_type": "code",
   "execution_count": 1,
   "metadata": {},
   "outputs": [],
   "source": [
    "import pandas as pd\n",
    "from sklearn.ensemble import RandomForestClassifier\n",
    "import xgboost as xgb\n",
    "import pickle\n",
    "import warnings\n",
    "from skopt import BayesSearchCV\n",
    "from skopt.space import Integer, Real, Categorical\n",
    "from sklearn.ensemble import RandomForestClassifier\n",
    "from sklearn.metrics import (\n",
    "    roc_auc_score, accuracy_score, f1_score,\n",
    "    precision_score, recall_score\n",
    ")\n",
    "\n",
    "# Ignore PerformanceWarning and UserWarning\n",
    "warnings.filterwarnings(\"ignore\", category=UserWarning)\n",
    "warnings.filterwarnings(\"ignore\", category=pd.errors.PerformanceWarning)"
   ]
  },
  {
   "cell_type": "markdown",
   "metadata": {},
   "source": [
    "### Load Datasets"
   ]
  },
  {
   "cell_type": "code",
   "execution_count": 2,
   "metadata": {},
   "outputs": [],
   "source": [
    "# Load datasets\n",
    "X_train = pd.read_csv('train_test_datasets/X_train2.csv')\n",
    "X_test = pd.read_csv('train_test_datasets/X_test2.csv')\n",
    "y_train = pd.read_csv('train_test_datasets/y_train2.csv')\n",
    "y_test = pd.read_csv('train_test_datasets/y_test2.csv')"
   ]
  },
  {
   "cell_type": "markdown",
   "metadata": {},
   "source": [
    "### Function to build models on different hyperparameters\n",
    "\n",
    "We can now train a series of models on various hyperparameters, collecting various performance metrics for each iteration of model, and return a dataframe showing the performance metrics for the best performing version of each model based on roc-auc score:"
   ]
  },
  {
   "cell_type": "code",
   "execution_count": 3,
   "metadata": {},
   "outputs": [],
   "source": [
    "\n",
    "def train_and_evaluate_models(X_train, X_test, y_train, y_test, n_iter=25):\n",
    "    \"\"\"\n",
    "    Trains and evaluates Random Forest and XGBoost models using Bayesian optimisation.\n",
    "\n",
    "    Parameters:\n",
    "    ----------\n",
    "    X_train : pd.DataFrame\n",
    "        Training feature set.\n",
    "    X_test : pd.DataFrame\n",
    "        Test feature set.\n",
    "    y_train : pd.Series or np.ndarray\n",
    "        Training target labels.\n",
    "    y_test : pd.Series or np.ndarray\n",
    "        Test target labels.\n",
    "    n_iter : int\n",
    "        Number of optimisation iterations for BayesSearchCV.\n",
    "\n",
    "    Returns:\n",
    "    -------\n",
    "    pd.DataFrame\n",
    "        A DataFrame containing the evaluation metrics and best hyperparameters for each model.\n",
    "    \"\"\"\n",
    "    \n",
    "    models = { \n",
    "        \"RandomForest\": {\n",
    "            \"model\": RandomForestClassifier(random_state=42),\n",
    "            \"search_space\": {\n",
    "                \"n_estimators\": Integer(100, 500),\n",
    "                \"max_depth\": Integer(5, 50),\n",
    "                \"min_samples_split\": Integer(2, 20),\n",
    "                \"min_samples_leaf\": Integer(1, 10),\n",
    "                \"bootstrap\": Categorical([True, False])\n",
    "            }\n",
    "        },\n",
    "        \"XGBoost\": {\n",
    "            \"model\": xgb.XGBClassifier(use_label_encoder=False, eval_metric=\"logloss\"),\n",
    "            \"search_space\": {\n",
    "                \"n_estimators\": Integer(100, 500),\n",
    "                \"max_depth\": Integer(3, 12),\n",
    "                \"learning_rate\": Real(0.01, 0.3, prior=\"log-uniform\"),\n",
    "                \"subsample\": Real(0.5, 1.0),\n",
    "                \"colsample_bytree\": Real(0.5, 1.0)\n",
    "            }\n",
    "        }\n",
    "    }\n",
    "\n",
    "    results = []\n",
    "\n",
    "    for model_name, config in models.items():\n",
    "        print(f\"Optimising {model_name}...\")\n",
    "\n",
    "        opt = BayesSearchCV(\n",
    "            estimator=config[\"model\"],\n",
    "            search_spaces=config[\"search_space\"],\n",
    "            n_iter=n_iter,\n",
    "            scoring='roc_auc',\n",
    "            cv=3,\n",
    "            n_jobs=-1,\n",
    "            random_state=42,\n",
    "            verbose=0\n",
    "        )\n",
    "\n",
    "        opt.fit(X_train, y_train)\n",
    "\n",
    "        best_model = opt.best_estimator_\n",
    "        y_pred = best_model.predict(X_test)\n",
    "        y_proba = best_model.predict_proba(X_test)[:, 1]\n",
    "\n",
    "        auc = roc_auc_score(y_test, y_proba)\n",
    "        accuracy = accuracy_score(y_test, y_pred)\n",
    "        f1 = f1_score(y_test, y_pred)\n",
    "        precision = precision_score(y_test, y_pred)\n",
    "        recall = recall_score(y_test, y_pred)\n",
    "\n",
    "        results.append({\n",
    "            \"Model\": model_name,\n",
    "            \"Best Params\": opt.best_params_,\n",
    "            \"ROC-AUC\": auc,\n",
    "            \"Accuracy\": accuracy,\n",
    "            \"F1-Score\": f1,\n",
    "            \"Precision\": precision,\n",
    "            \"Recall\": recall\n",
    "        })\n",
    "\n",
    "    results_df = pd.DataFrame(results).sort_values(by=\"ROC-AUC\", ascending=False)\n",
    "    \n",
    "    return results_df\n"
   ]
  },
  {
   "cell_type": "code",
   "execution_count": 4,
   "metadata": {},
   "outputs": [
    {
     "name": "stdout",
     "output_type": "stream",
     "text": [
      "Optimising RandomForest...\n",
      "Optimising XGBoost...\n"
     ]
    }
   ],
   "source": [
    "# Run the function\n",
    "results_df = train_and_evaluate_models(X_train, X_test, y_train, y_test)"
   ]
  },
  {
   "cell_type": "code",
   "execution_count": 5,
   "metadata": {},
   "outputs": [
    {
     "data": {
      "text/html": [
       "<div>\n",
       "<style scoped>\n",
       "    .dataframe tbody tr th:only-of-type {\n",
       "        vertical-align: middle;\n",
       "    }\n",
       "\n",
       "    .dataframe tbody tr th {\n",
       "        vertical-align: top;\n",
       "    }\n",
       "\n",
       "    .dataframe thead th {\n",
       "        text-align: right;\n",
       "    }\n",
       "</style>\n",
       "<table border=\"1\" class=\"dataframe\">\n",
       "  <thead>\n",
       "    <tr style=\"text-align: right;\">\n",
       "      <th></th>\n",
       "      <th>Model</th>\n",
       "      <th>Best Params</th>\n",
       "      <th>ROC-AUC</th>\n",
       "      <th>Accuracy</th>\n",
       "      <th>F1-Score</th>\n",
       "      <th>Precision</th>\n",
       "      <th>Recall</th>\n",
       "    </tr>\n",
       "  </thead>\n",
       "  <tbody>\n",
       "    <tr>\n",
       "      <th>1</th>\n",
       "      <td>XGBoost</td>\n",
       "      <td>{'colsample_bytree': 0.5485095094956723, 'lear...</td>\n",
       "      <td>0.735725</td>\n",
       "      <td>0.676006</td>\n",
       "      <td>0.688781</td>\n",
       "      <td>0.675464</td>\n",
       "      <td>0.702634</td>\n",
       "    </tr>\n",
       "    <tr>\n",
       "      <th>0</th>\n",
       "      <td>RandomForest</td>\n",
       "      <td>{'bootstrap': True, 'max_depth': 10, 'min_samp...</td>\n",
       "      <td>0.734648</td>\n",
       "      <td>0.674947</td>\n",
       "      <td>0.688617</td>\n",
       "      <td>0.673535</td>\n",
       "      <td>0.704389</td>\n",
       "    </tr>\n",
       "  </tbody>\n",
       "</table>\n",
       "</div>"
      ],
      "text/plain": [
       "          Model                                        Best Params   ROC-AUC   \n",
       "1       XGBoost  {'colsample_bytree': 0.5485095094956723, 'lear...  0.735725  \\\n",
       "0  RandomForest  {'bootstrap': True, 'max_depth': 10, 'min_samp...  0.734648   \n",
       "\n",
       "   Accuracy  F1-Score  Precision    Recall  \n",
       "1  0.676006  0.688781   0.675464  0.702634  \n",
       "0  0.674947  0.688617   0.673535  0.704389  "
      ]
     },
     "execution_count": 5,
     "metadata": {},
     "output_type": "execute_result"
    }
   ],
   "source": [
    "results_df"
   ]
  },
  {
   "cell_type": "markdown",
   "metadata": {},
   "source": [
    "### Function to save best performing model\n",
    "\n",
    "We can now build a function to save our best performing model:"
   ]
  },
  {
   "cell_type": "code",
   "execution_count": 6,
   "metadata": {},
   "outputs": [],
   "source": [
    "def save_best_model(results_df, X_train, y_train, model_name, output_path=None):\n",
    "    \"\"\"\n",
    "    Selects the best-performing model of the specified type from the results DataFrame,\n",
    "    refits it on the full training data, and saves it to a file.\n",
    "\n",
    "    This function:\n",
    "    - Filters the results to include only the specified model type.\n",
    "    - Selects the configuration with the highest ROC-AUC score.\n",
    "    - Instantiates the model with its best parameters and fits it to the full training data.\n",
    "    - Saves the fitted model as a pickle file.\n",
    "\n",
    "    Parameters:\n",
    "        results_df (pandas.DataFrame): A DataFrame containing model names, best parameters,\n",
    "                                       and evaluation metrics (e.g. 'ROC-AUC').\n",
    "        X_train (pandas.DataFrame): The training features.\n",
    "        y_train (pandas.Series): The training labels.\n",
    "        model_name (str): The name of the model type to extract (e.g. \"XGBoost\", \"RandomForest\").\n",
    "        output_path (str, optional): Path to save the trained model. If not provided,\n",
    "                                     a default name is used based on the model type.\n",
    "\n",
    "    Returns:\n",
    "        str: The file path to which the model was saved.\n",
    "    \"\"\"\n",
    "\n",
    "    # Validate model mapping\n",
    "    model_mapping = {\n",
    "        \"RandomForest\": RandomForestClassifier,\n",
    "        \"XGBoost\": xgb.XGBClassifier,\n",
    "    }\n",
    "\n",
    "    # Filter for the specified model and select the best one by AUC\n",
    "    filtered = results_df[results_df[\"Model\"] == model_name]\n",
    "    if filtered.empty:\n",
    "        raise ValueError(f\"No entries found in results_df for model type: '{model_name}'\")\n",
    "\n",
    "    best_row = filtered.sort_values(by=\"ROC-AUC\", ascending=False).iloc[0]\n",
    "    best_params = best_row[\"Best Params\"]\n",
    "\n",
    "    # Instantiate and fit the model\n",
    "    model_class = model_mapping[model_name]\n",
    "    model = model_class(**best_params)\n",
    "    model.fit(X_train, y_train)\n",
    "\n",
    "    # Determine default output path if none provided\n",
    "    if output_path is None:\n",
    "        output_path = f\"best_{model_name.lower()}_model.pkl\"\n",
    "\n",
    "    # Save model to file\n",
    "    with open(output_path, \"wb\") as file:\n",
    "        pickle.dump(model, file)\n",
    "\n",
    "    print(f\"Saved best '{model_name}' model with ROC-AUC {best_row['ROC-AUC']:.4f} to '{output_path}'\")\n",
    "\n",
    "    return model\n"
   ]
  },
  {
   "cell_type": "code",
   "execution_count": 7,
   "metadata": {},
   "outputs": [
    {
     "name": "stdout",
     "output_type": "stream",
     "text": [
      "Saved best 'XGBoost' model with ROC-AUC 0.7357 to 'xg_model.pkl'\n"
     ]
    }
   ],
   "source": [
    "# Run function\n",
    "xg = save_best_model(results_df, X_train, y_train, 'XGBoost', output_path='xg_model.pkl')"
   ]
  }
 ],
 "metadata": {
  "kernelspec": {
   "display_name": "Python 3",
   "language": "python",
   "name": "python3"
  },
  "language_info": {
   "codemirror_mode": {
    "name": "ipython",
    "version": 3
   },
   "file_extension": ".py",
   "mimetype": "text/x-python",
   "name": "python",
   "nbconvert_exporter": "python",
   "pygments_lexer": "ipython3",
   "version": "3.11.3"
  },
  "orig_nbformat": 4
 },
 "nbformat": 4,
 "nbformat_minor": 2
}
