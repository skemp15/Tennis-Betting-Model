{
 "cells": [
  {
   "cell_type": "markdown",
   "metadata": {},
   "source": [
    "# Create Additional Features"
   ]
  },
  {
   "cell_type": "markdown",
   "metadata": {},
   "source": [
    "### Import Libraries"
   ]
  },
  {
   "cell_type": "code",
   "execution_count": null,
   "metadata": {},
   "outputs": [],
   "source": [
    "import pandas as pd\n",
    "import numpy as np\n",
    "import repeatable_functions as rf\n",
    "import warnings\n",
    "\n",
    "# Ignore PerformanceWarning and UserWarning\n",
    "warnings.filterwarnings(\"ignore\", category=UserWarning)\n",
    "warnings.filterwarnings(\"ignore\", category=pd.errors.PerformanceWarning)"
   ]
  },
  {
   "cell_type": "markdown",
   "metadata": {},
   "source": [
    "### Load Datasets\n",
    "\n",
    "First we can load our match and player datasets:"
   ]
  },
  {
   "cell_type": "code",
   "execution_count": null,
   "metadata": {},
   "outputs": [],
   "source": [
    "# Load datasets\n",
    "match_df = pd.read_csv('datasets\\match_df.csv')\n",
    "player_df = pd.read_csv('datasets\\player_df.csv')"
   ]
  },
  {
   "cell_type": "markdown",
   "metadata": {},
   "source": [
    "### Function to join player and match datasets\n",
    "\n",
    "We can finally merge the match and player datasets, using an inner join to remove missing matches:"
   ]
  },
  {
   "cell_type": "code",
   "execution_count": null,
   "metadata": {},
   "outputs": [],
   "source": [
    "def create_player_match_df(match_df, player_df):\n",
    "    \"\"\"\n",
    "    Merges match data with player statistics to create a comprehensive match-level DataFrame.\n",
    "\n",
    "    Parameters:\n",
    "    - match_df (pd.DataFrame): DataFrame containing match data with 'player' and 'opponent' columns.\n",
    "    - player_df (pd.DataFrame): DataFrame containing player statistics with formatted names.\n",
    "\n",
    "    Returns:\n",
    "    - player_match_df (pd.DataFrame): A merged DataFrame with player and opponent statistics included.\n",
    "\n",
    "    Notes:\n",
    "    - First, player statistics are merged onto 'player' using an inner join.\n",
    "    - Then, opponent statistics are merged onto 'opponent' using another inner join.\n",
    "    - Column names are prefixed with 'player_' and 'opp_' to differentiate between players.\n",
    "    - Uses inner joins to ensure that only matches with available player data are included.\n",
    "    \"\"\"\n",
    "\n",
    "    # Merge match data with player statistics for the main player\n",
    "    first_join_df = pd.merge(\n",
    "        match_df,\n",
    "        player_df.add_prefix('player_'),  # Add 'player_' prefix to differentiate player stats\n",
    "        how='inner',\n",
    "        left_on='player',\n",
    "        right_on='player_formatted_name'  # Match on formatted player names\n",
    "    )\n",
    "\n",
    "    # Merge opponent statistics onto the newly merged DataFrame\n",
    "    player_match_df = pd.merge(\n",
    "        first_join_df,\n",
    "        player_df.add_prefix('opp_'),  # Add 'opp_' prefix to differentiate opponent stats\n",
    "        how='inner',\n",
    "        left_on='opponent',\n",
    "        right_on='opp_formatted_name'  # Match on formatted opponent names\n",
    "    )\n",
    "\n",
    "    return player_match_df\n"
   ]
  },
  {
   "cell_type": "code",
   "execution_count": 206,
   "metadata": {},
   "outputs": [],
   "source": [
    "# Run the function \n",
    "player_match_df = create_player_match_df(match_df, player_df)"
   ]
  },
  {
   "cell_type": "markdown",
   "metadata": {},
   "source": [
    "### Function to filter player stats only by the previous year to the match\n",
    "\n",
    "Since we have up-to-date player stat info, and some of the matches took place before the stats were collected, we will engineer features that show all the stats for the previous year of the match and drop all other yearly stats:"
   ]
  },
  {
   "cell_type": "code",
   "execution_count": 207,
   "metadata": {},
   "outputs": [],
   "source": [
    "def filter_by_previous_year_columns(df):\n",
    "    \"\"\"\n",
    "    Filters and processes year-specific columns in a DataFrame to retain only the previous year's data.\n",
    "\n",
    "    Parameters:\n",
    "    - df (pd.DataFrame): The input DataFrame containing year-specific columns.\n",
    "\n",
    "    Returns:\n",
    "    - df_new (pd.DataFrame): A DataFrame where year-specific columns are replaced with '_previous_year' equivalents.\n",
    "\n",
    "    Notes:\n",
    "    - Identifies columns that have a four-digit year suffix (e.g., '_2023').\n",
    "    - Creates new columns with '_previous_year' suffix, initialized as None.\n",
    "    - Populates '_previous_year' columns based on the current row's 'year' value.\n",
    "    - Drops the original year-specific columns after transformation.\n",
    "    - Computes 'vsOther' metrics using wins and Top100 match data.\n",
    "    \"\"\"\n",
    "\n",
    "    df_new = df.copy()\n",
    "    \n",
    "    # Identify columns with a 4-digit year suffix between 2000 and 2025\n",
    "    year_columns = [col for col in df_new.columns if col[-4:].isdigit() and 2003 <= int(col[-4:]) <= 2025]\n",
    "    \n",
    "    # Map of original year-specific columns to new '_previous_year' columns\n",
    "    previous_year_cols = {col: col.replace(col[-4:], '_previous_year') for col in year_columns}\n",
    "\n",
    "    # Pre-fill new columns with None\n",
    "    for new_col in previous_year_cols.values():\n",
    "        df_new[new_col] = None\n",
    "\n",
    "    # Process each year-specific column\n",
    "    for col, new_col in previous_year_cols.items():\n",
    "        year_suffix = int(col[-4:])\n",
    "        matching_rows = df_new['year'] == (year_suffix + 1)\n",
    "        df_new.loc[matching_rows, new_col] = df_new.loc[matching_rows, col]\n",
    "\n",
    "    # Drop the original year-specific columns\n",
    "    df_new.drop(columns=year_columns, inplace=True)\n",
    "\n",
    "    # Calculate 'vsOther' metrics\n",
    "    for role in ['player', 'opp']:\n",
    "        df_new[f'{role}_vsOther_wins__previous_year'] = (\n",
    "            df_new[f'{role}_wins__previous_year'] - df_new[f'{role}_vsTop100_wins__previous_year']\n",
    "        )\n",
    "        df_new[f'{role}_vsOther_losses__previous_year'] = (\n",
    "            df_new[f'{role}_losses__previous_year'] - df_new[f'{role}_vsTop100_losses__previous_year']\n",
    "        )\n",
    "\n",
    "    return df_new"
   ]
  },
  {
   "cell_type": "code",
   "execution_count": 208,
   "metadata": {},
   "outputs": [],
   "source": [
    "player_match_df = filter_by_previous_year_columns(player_match_df)"
   ]
  },
  {
   "cell_type": "markdown",
   "metadata": {},
   "source": [
    "### Function to show previous year stats for matching conditions\n",
    "\n",
    "We can also then create additional features for the number of wins in previous year for the same series, surface, round and category of opponent as the current match. We can also then add features for the win rates, adding more weight to players who have played more games:"
   ]
  },
  {
   "cell_type": "code",
   "execution_count": null,
   "metadata": {},
   "outputs": [],
   "source": [
    "def match_match_details_to_stats(df):\n",
    "    \"\"\"\n",
    "    Maps match-level details to player statistics from the previous year and calculates logarithmic weighted win rates.\n",
    "\n",
    "    Parameters:\n",
    "    - df (pd.DataFrame): The input DataFrame containing match details and player statistics.\n",
    "\n",
    "    Returns:\n",
    "    - df_new (pd.DataFrame): A DataFrame with new mapped columns and calculated win rates.\n",
    "\n",
    "    Notes:\n",
    "    - Creates columns that map previous-year statistics based on match details (e.g., surface, round, series).\n",
    "    - Computes logarithmic weighted win rates for players and opponents.\n",
    "    - Drops unnecessary previous-year statistics after mapping.\n",
    "    \"\"\"\n",
    "\n",
    "    # Create a copy of the DataFrame to avoid modifying the original\n",
    "    df_new = df.copy()\n",
    "\n",
    "    # Function to create and map columns dynamically\n",
    "    def create_and_map_columns(row):\n",
    "        new_columns_map = {\n",
    "            'player_current_series_wins__previous_year': f\"player_{row['Series']}_wins__previous_year\",\n",
    "            'player_current_series_losses__previous_year': f\"player_{row['Series']}_losses__previous_year\",\n",
    "            'player_current_surface_wins__previous_year': f\"player_{row['Surface']}_wins__previous_year\",\n",
    "            'player_current_surface_losses__previous_year': f\"player_{row['Surface']}_losses__previous_year\",\n",
    "            'player_current_round_wins__previous_year': f\"player_{row['Round']}_wins__previous_year\",\n",
    "            'player_current_round_losses__previous_year': f\"player_{row['Round']}_losses__previous_year\",\n",
    "            'player_current_vsTop_wins__previous_year': f\"player_{row['player_vs_top']}_wins__previous_year\",\n",
    "            'player_current_vsTop_losses__previous_year': f\"player_{row['player_vs_top']}_losses__previous_year\",\n",
    "            'opp_current_series_wins__previous_year': f\"opp_{row['Series']}_wins__previous_year\",\n",
    "            'opp_current_series_losses__previous_year': f\"opp_{row['Series']}_losses__previous_year\",\n",
    "            'opp_current_surface_wins__previous_year': f\"opp_{row['Surface']}_wins__previous_year\",\n",
    "            'opp_current_surface_losses__previous_year': f\"opp_{row['Surface']}_losses__previous_year\",\n",
    "            'opp_current_round_wins__previous_year': f\"opp_{row['Round']}_wins__previous_year\",\n",
    "            'opp_current_round_losses__previous_year': f\"opp_{row['Round']}_losses__previous_year\",\n",
    "            'opp_current_vsTop_wins__previous_year': f\"opp_{row['opp_vs_top']}_wins__previous_year\",\n",
    "            'opp_current_vsTop_losses__previous_year': f\"opp_{row['opp_vs_top']}_losses__previous_year\",\n",
    "        }\n",
    "        \n",
    "        # Assign values from corresponding previous-year columns if they exist, otherwise set to None\n",
    "        for new_col, orig_col in new_columns_map.items():\n",
    "            row[new_col] = row.get(orig_col, None)\n",
    "        return row\n",
    "\n",
    "    # Apply function row-wise to create mapped columns\n",
    "    df_new = df_new.apply(create_and_map_columns, axis=1)\n",
    "\n",
    "    # Function to calculate logarithmic weighted win rates\n",
    "    def calculate_log_weighted_win_rates(row):\n",
    "        categories = ['series', 'surface', 'round', 'vsTop']\n",
    "        for category in categories:\n",
    "            # Player calculations\n",
    "            wins_col = f'player_current_{category}_wins__previous_year'\n",
    "            losses_col = f'player_current_{category}_losses__previous_year'\n",
    "            win_rate_col = f'player_current_{category}_win_rate__previous_year'\n",
    "            \n",
    "            wins = row.get(wins_col, 0)\n",
    "            losses = row.get(losses_col, 0)\n",
    "            total_games = wins + losses\n",
    "\n",
    "            row[win_rate_col] = (wins / total_games) * np.log(total_games + 1) if total_games > 0 else 0\n",
    "\n",
    "            # Opponent calculations\n",
    "            opp_wins_col = f'opp_current_{category}_wins__previous_year'\n",
    "            opp_losses_col = f'opp_current_{category}_losses__previous_year'\n",
    "            opp_win_rate_col = f'opp_current_{category}_win_rate__previous_year'\n",
    "\n",
    "            opp_wins = row.get(opp_wins_col, 0)\n",
    "            opp_losses = row.get(opp_losses_col, 0)\n",
    "            total_opp_games = opp_wins + opp_losses\n",
    "\n",
    "            row[opp_win_rate_col] = (opp_wins / total_opp_games) * np.log(total_opp_games + 1) if total_opp_games > 0 else 0\n",
    "\n",
    "        return row\n",
    "\n",
    "    # Apply function row-wise to calculate win rates\n",
    "    df_new = df_new.apply(calculate_log_weighted_win_rates, axis=1)\n",
    "\n",
    "    # Drop original previous-year columns after processing\n",
    "    columns_to_drop = [\n",
    "        col for col in df_new.columns \n",
    "        if col.startswith(('player_', 'opp_')) and \n",
    "        ('_wins_' in col or '_losses_' in col) and \n",
    "        ('__previous_year' in col) and \n",
    "        ('current' not in col) and \n",
    "        col not in ['player_wins__previous_year', 'player_losses__previous_year']\n",
    "    ]\n",
    "\n",
    "    df_new.drop(columns=columns_to_drop, inplace=True)\n",
    "\n",
    "    return df_new\n"
   ]
  },
  {
   "cell_type": "code",
   "execution_count": 210,
   "metadata": {},
   "outputs": [],
   "source": [
    "# Run the function\n",
    "player_match_df = match_match_details_to_stats(player_match_df)"
   ]
  },
  {
   "cell_type": "markdown",
   "metadata": {},
   "source": [
    "We can run our previous function showing the top null columns on our new player_match_df:"
   ]
  },
  {
   "cell_type": "code",
   "execution_count": null,
   "metadata": {},
   "outputs": [
    {
     "name": "stdout",
     "output_type": "stream",
     "text": [
      "\n",
      "Top 10 columns with the most null values:\n",
      "\n"
     ]
    },
    {
     "data": {
      "text/html": [
       "<div>\n",
       "<style scoped>\n",
       "    .dataframe tbody tr th:only-of-type {\n",
       "        vertical-align: middle;\n",
       "    }\n",
       "\n",
       "    .dataframe tbody tr th {\n",
       "        vertical-align: top;\n",
       "    }\n",
       "\n",
       "    .dataframe thead th {\n",
       "        text-align: right;\n",
       "    }\n",
       "</style>\n",
       "<table border=\"1\" class=\"dataframe\">\n",
       "  <thead>\n",
       "    <tr style=\"text-align: right;\">\n",
       "      <th></th>\n",
       "      <th>Null Count</th>\n",
       "      <th>Null Percentage</th>\n",
       "    </tr>\n",
       "  </thead>\n",
       "  <tbody>\n",
       "    <tr>\n",
       "      <th>opp_current_series_wins__previous_year</th>\n",
       "      <td>14854</td>\n",
       "      <td>15.601794</td>\n",
       "    </tr>\n",
       "    <tr>\n",
       "      <th>opp_current_series_losses__previous_year</th>\n",
       "      <td>14854</td>\n",
       "      <td>15.601794</td>\n",
       "    </tr>\n",
       "    <tr>\n",
       "      <th>player_current_series_wins__previous_year</th>\n",
       "      <td>14700</td>\n",
       "      <td>15.440041</td>\n",
       "    </tr>\n",
       "    <tr>\n",
       "      <th>player_current_series_losses__previous_year</th>\n",
       "      <td>14700</td>\n",
       "      <td>15.440041</td>\n",
       "    </tr>\n",
       "    <tr>\n",
       "      <th>opp_current_surface_wins__previous_year</th>\n",
       "      <td>3890</td>\n",
       "      <td>4.085834</td>\n",
       "    </tr>\n",
       "    <tr>\n",
       "      <th>opp_current_surface_losses__previous_year</th>\n",
       "      <td>3890</td>\n",
       "      <td>4.085834</td>\n",
       "    </tr>\n",
       "    <tr>\n",
       "      <th>player_current_surface_losses__previous_year</th>\n",
       "      <td>3702</td>\n",
       "      <td>3.888370</td>\n",
       "    </tr>\n",
       "    <tr>\n",
       "      <th>player_current_surface_wins__previous_year</th>\n",
       "      <td>3702</td>\n",
       "      <td>3.888370</td>\n",
       "    </tr>\n",
       "    <tr>\n",
       "      <th>opp_bps_faced_pct__previous_year</th>\n",
       "      <td>3515</td>\n",
       "      <td>3.691955</td>\n",
       "    </tr>\n",
       "    <tr>\n",
       "      <th>opp_bps_saved_pct__previous_year</th>\n",
       "      <td>3515</td>\n",
       "      <td>3.691955</td>\n",
       "    </tr>\n",
       "  </tbody>\n",
       "</table>\n",
       "</div>"
      ],
      "text/plain": [
       "                                              Null Count  Null Percentage\n",
       "opp_current_series_wins__previous_year             14854        15.601794\n",
       "opp_current_series_losses__previous_year           14854        15.601794\n",
       "player_current_series_wins__previous_year          14700        15.440041\n",
       "player_current_series_losses__previous_year        14700        15.440041\n",
       "opp_current_surface_wins__previous_year             3890         4.085834\n",
       "opp_current_surface_losses__previous_year           3890         4.085834\n",
       "player_current_surface_losses__previous_year        3702         3.888370\n",
       "player_current_surface_wins__previous_year          3702         3.888370\n",
       "opp_bps_faced_pct__previous_year                    3515         3.691955\n",
       "opp_bps_saved_pct__previous_year                    3515         3.691955"
      ]
     },
     "execution_count": 211,
     "metadata": {},
     "output_type": "execute_result"
    }
   ],
   "source": [
    "rf.show_columns_with_most_nulls(player_match_df)"
   ]
  },
  {
   "cell_type": "markdown",
   "metadata": {},
   "source": [
    "Given that the null values of these columns are just a small percentage, we can assume that missing data for the previous year is simply due to the opposition not having stats for the previous year and we can therefore simply fill these values with zero: "
   ]
  },
  {
   "cell_type": "code",
   "execution_count": 212,
   "metadata": {},
   "outputs": [],
   "source": [
    "player_match_df.loc[:, player_match_df.columns.str.contains('previous_year')] = player_match_df.loc[:, player_match_df.columns.str.contains('previous_year')].fillna(0)"
   ]
  },
  {
   "cell_type": "markdown",
   "metadata": {},
   "source": [
    "### Function to add features showing difference in player and opposition stats\n",
    "\n",
    "Now we've filled the missing values with zero, we can engineer additional features based on the difference between the player's and the opposition's previous year stats:"
   ]
  },
  {
   "cell_type": "code",
   "execution_count": 213,
   "metadata": {},
   "outputs": [],
   "source": [
    "def add_diff_columns(df):\n",
    "    \"\"\"\n",
    "    Adds new columns to the DataFrame representing the difference between player and opponent \n",
    "    statistics from the previous year.\n",
    "\n",
    "    The function:\n",
    "    - Identifies all player-related columns ending with '_previous_year'.\n",
    "    - Matches them with corresponding opponent columns (with prefix 'opp_').\n",
    "    - Creates new columns with the suffix '_diff', representing the difference between the \n",
    "      player's and opponent's values for each matched statistic.\n",
    "\n",
    "    Parameters:\n",
    "        df (pandas.DataFrame): A DataFrame containing columns prefixed with 'player_' and 'opp_', \n",
    "                               specifically for previous year statistics.\n",
    "\n",
    "    Returns:\n",
    "        pandas.DataFrame: The input DataFrame with additional '_diff' columns indicating the \n",
    "                          player-opponent differences.\n",
    "    \"\"\"\n",
    "    # Get all column names\n",
    "    cols = df.columns\n",
    "\n",
    "    # Extract stat names without prefix\n",
    "    stat_suffixes = set()\n",
    "    for col in cols:\n",
    "        if col.startswith(\"player_\") and col.endswith(\"_previous_year\"):\n",
    "            suffix = col.replace(\"player_\", \"\")\n",
    "            if f\"opp_{suffix}\" in cols:\n",
    "                stat_suffixes.add(suffix)\n",
    "\n",
    "    # Create diff columns\n",
    "    for suffix in stat_suffixes:\n",
    "        player_col = f\"player_{suffix}\"\n",
    "        opp_col = f\"opp_{suffix}\"\n",
    "        diff_col = f\"{suffix}_diff\"\n",
    "        df[diff_col] = df[player_col] - df[opp_col]\n",
    "\n",
    "    return df\n"
   ]
  },
  {
   "cell_type": "code",
   "execution_count": 214,
   "metadata": {},
   "outputs": [],
   "source": [
    "# Run the function\n",
    "player_match_df = add_diff_columns(player_match_df)"
   ]
  },
  {
   "attachments": {},
   "cell_type": "markdown",
   "metadata": {},
   "source": [
    "### Function to create cumulative score features\n",
    "\n",
    "We can now create a function to engineer additional features summing the scores from the previous 2 to 10 matches:"
   ]
  },
  {
   "cell_type": "code",
   "execution_count": null,
   "metadata": {},
   "outputs": [],
   "source": [
    "def create_prior_score_features(df):\n",
    "    \"\"\"\n",
    "    Creates cumulative score features over the past 2 to 10 matches for various scoring metrics,\n",
    "    including standard and straight-sets variations. Drops original per-match and base score columns\n",
    "    after aggregation.\n",
    "\n",
    "    Parameters:\n",
    "        df (pandas.DataFrame): DataFrame containing past match score features.\n",
    "\n",
    "    Returns:\n",
    "        pandas.DataFrame: Modified DataFrame with cumulative features added and redundant columns removed.\n",
    "    \"\"\"\n",
    "    df_new = df.copy()\n",
    "\n",
    "    score_types = ['rank_score', 'pts_score', 'ss_rank_score', 'ss_pts_score']\n",
    "\n",
    "    for score in score_types:\n",
    "        for n in range(2, 11):\n",
    "            cols = [f\"{score}_{i}_match_ago\" for i in range(1, n + 1)]\n",
    "            existing_cols = [col for col in cols if col in df_new.columns]\n",
    "            if existing_cols:  # Avoid issues if some columns are missing\n",
    "                df_new[f'{score}_past{n}'] = df_new[existing_cols].sum(axis=1)\n",
    "\n",
    "    # Drop all per-match score columns\n",
    "    columns_to_drop = [col for col in df_new.columns if 'ago' in col]\n",
    "    df_new.drop(columns=columns_to_drop, inplace=True)\n",
    "\n",
    "    # Drop additional raw score columns\n",
    "    extra_columns = ['rank_score', 'pts_score', 'straight_sets', 'ss_rank_score', 'ss_pts_score']\n",
    "    df_new.drop(columns=[col for col in extra_columns if col in df_new.columns], inplace=True)\n",
    "\n",
    "    return df_new\n"
   ]
  },
  {
   "cell_type": "code",
   "execution_count": 216,
   "metadata": {},
   "outputs": [],
   "source": [
    "# Run the function\n",
    "player_match_df = create_prior_score_features(player_match_df)"
   ]
  },
  {
   "cell_type": "code",
   "execution_count": null,
   "metadata": {},
   "outputs": [],
   "source": [
    "player_match_df2 = pd.read_csv('datasets\\player_match_df_clean.csv')"
   ]
  },
  {
   "cell_type": "markdown",
   "metadata": {},
   "source": [
    "### Function to remove any remaining rows with null values and redundant columns\n",
    "\n",
    "Now that we have finished engineering our features, we can build a function to remove any remaining rows containing null values, and to remove any remaining columns that we don't require for model building:"
   ]
  },
  {
   "cell_type": "code",
   "execution_count": null,
   "metadata": {},
   "outputs": [],
   "source": [
    "def clean_dataset(df):\n",
    "    \"\"\"\n",
    "    Cleans the dataset by removing null values and dropping irrelevant columns.\n",
    "\n",
    "    Parameters:\n",
    "    - df (pd.DataFrame): The input DataFrame containing match data.\n",
    "\n",
    "    Returns:\n",
    "    - df_new (pd.DataFrame): A cleaned DataFrame with dropped null values and unnecessary columns.\n",
    "\n",
    "    Notes:\n",
    "    - Prints the initial number of rows before cleaning.\n",
    "    - Drops rows with missing values.\n",
    "    - Drops irrelevant columns such as player/opponent names and match details.\n",
    "    - Prints the number of removed rows and the final number of rows after cleaning.\n",
    "    \"\"\"\n",
    "\n",
    "    # Count the initial number of rows\n",
    "    initial_count = len(df)\n",
    "    print(f\"Previous number of rows in match_df: {initial_count}\")\n",
    "\n",
    "    # Create a copy to avoid modifying the original DataFrame\n",
    "    df_new = df.copy()\n",
    "\n",
    "    # Drop null values\n",
    "    df_new = df_new.dropna()\n",
    "\n",
    "    # Drop irrelevant columns\n",
    "    columns_to_drop = [\n",
    "        'player', 'opponent', 'Series', 'Surface', 'Round', 'date', \n",
    "        'opp_formatted_name', 'opp_name', 'player_formatted_name', \n",
    "        'player_vs_top', 'opp_vs_top', 'player_name'\n",
    "    ]\n",
    "    \n",
    "    df_new = df_new.drop(columns=columns_to_drop, errors='ignore')\n",
    "\n",
    "    # Count the number of rows after removal\n",
    "    final_count = len(df_new)\n",
    "\n",
    "    # Calculate the number of removed rows\n",
    "    removed_count = initial_count - final_count\n",
    "\n",
    "    # Print summary statistics\n",
    "    print(f\"Number of removed rows: {removed_count}\")\n",
    "    print(f\"New number of rows in match_df: {final_count}\")  # Extra print statement\n",
    "    print(\"Removed redundant columns\")\n",
    "\n",
    "    return df_new\n"
   ]
  },
  {
   "cell_type": "code",
   "execution_count": 219,
   "metadata": {},
   "outputs": [
    {
     "name": "stdout",
     "output_type": "stream",
     "text": [
      "Previous number of rows in match_df: 95207\n",
      "Number of removed rows: 0\n",
      "New number of rows in match_df: 95207\n",
      "Removed redundant columns\n"
     ]
    }
   ],
   "source": [
    "# Run the function\n",
    "player_match_df = clean_dataset(player_match_df)"
   ]
  },
  {
   "cell_type": "markdown",
   "metadata": {},
   "source": [
    "We can now save our new player_match_df before we move onto feature selection:"
   ]
  },
  {
   "cell_type": "code",
   "execution_count": null,
   "metadata": {},
   "outputs": [],
   "source": [
    "# Save to file\n",
    "player_match_df.to_csv('datasets\\player_match_df_clean.csv', index=False)"
   ]
  }
 ],
 "metadata": {
  "kernelspec": {
   "display_name": "Python 3",
   "language": "python",
   "name": "python3"
  },
  "language_info": {
   "codemirror_mode": {
    "name": "ipython",
    "version": 3
   },
   "file_extension": ".py",
   "mimetype": "text/x-python",
   "name": "python",
   "nbconvert_exporter": "python",
   "pygments_lexer": "ipython3",
   "version": "3.11.3"
  },
  "orig_nbformat": 4
 },
 "nbformat": 4,
 "nbformat_minor": 2
}
